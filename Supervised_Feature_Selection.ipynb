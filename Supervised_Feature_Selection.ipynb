{
 "cells": [
  {
   "cell_type": "code",
   "execution_count": 3,
   "metadata": {},
   "outputs": [],
   "source": [
    "import warnings\n",
    "import time\n",
    "import numpy as np\n",
    "import pandas as pd\n",
    "from sklearn.model_selection import train_test_split\n",
    "from sklearn.metrics import accuracy_score, precision_score\n",
    "from sklearn.ensemble import RandomForestClassifier\n",
    "from sklearn.linear_model import LogisticRegression\n",
    "from sklearn.feature_selection import SelectFromModel, SequentialFeatureSelector\n",
    "\n",
    "warnings.filterwarnings(\"ignore\")"
   ]
  },
  {
   "cell_type": "code",
   "execution_count": 4,
   "metadata": {},
   "outputs": [],
   "source": [
    "from ITMO_FS.filters.univariate import select_k_best, relief_measure, \n",
    "                                        UnivariateFilter, chi2_measure, su_measure\n",
    "from ITMO_FS.filters.multivariate import MultivariateFilter, MRMR\n",
    "from ITMO_FS.wrappers import SequentialForwardSelection\n",
    "from boruta import BorutaPy"
   ]
  },
  {
   "cell_type": "code",
   "execution_count": 5,
   "metadata": {},
   "outputs": [],
   "source": [
    "import pprint\n",
    "pp = pprint.PrettyPrinter()"
   ]
  },
  {
   "cell_type": "code",
   "execution_count": 6,
   "metadata": {},
   "outputs": [],
   "source": [
    "data_path = './data'"
   ]
  },
  {
   "cell_type": "code",
   "execution_count": 7,
   "metadata": {},
   "outputs": [],
   "source": [
    "def kuncheva_index(a: np.array, b: np.array, n: int) -> float:\n",
    "    '''\n",
    "    k - number of selected features\n",
    "    r - number of intersection between lists of features\n",
    "    n - total number of features\n",
    "    \n",
    "    metric:\n",
    "        close to 0 - very different feature sets\n",
    "        close to 1 - very similar feature sets\n",
    "    '''\n",
    "    if len(a) == len(b):\n",
    "        k = len(a)\n",
    "        r = len(list(set(a).intersection(b)))\n",
    "        metric = ((r * n) - (k * k)) / (k * (n - k))\n",
    "        return metric\n",
    "    else:\n",
    "        raise('Both arrays length must be the same size')"
   ]
  },
  {
   "cell_type": "code",
   "execution_count": 8,
   "metadata": {},
   "outputs": [],
   "source": [
    "def jaccard_index(a: np.array, b: np.array, n: int = 100):\n",
    "    '''\n",
    "    metric:\n",
    "        close to 0 - very different feature sets\n",
    "        close to 1 - very similar feature sets\n",
    "    '''\n",
    "    numerator = len(list(set(a).intersection(b)))\n",
    "    denominator = len(list(set(a).union(b)))\n",
    "    metric = numerator / denominator\n",
    "    return metric"
   ]
  },
  {
   "cell_type": "code",
   "execution_count": 9,
   "metadata": {},
   "outputs": [],
   "source": [
    "def model_score(x_train, x_test, y_train, y_test):\n",
    "    model = LogisticRegression()\n",
    "    model.fit(x_train, y_train)\n",
    "    pred = model.predict(x_test)\n",
    "\n",
    "    precision = precision_score(y_test, pred)\n",
    "    return precision"
   ]
  },
  {
   "cell_type": "markdown",
   "metadata": {},
   "source": [
    "# Dataset: Dorothea (800 x 100000)"
   ]
  },
  {
   "cell_type": "code",
   "execution_count": 290,
   "metadata": {},
   "outputs": [
    {
     "name": "stdout",
     "output_type": "stream",
     "text": [
      "(800, 100000)\n",
      "(800,)\n"
     ]
    }
   ],
   "source": [
    "dorothea = pd.read_csv(f'{data_path}/dorothea.csv', header=None)\n",
    "X = dorothea.iloc[:, :dorothea.shape[1]-1]\n",
    "y = dorothea.iloc[:, -1]\n",
    "\n",
    "print(X.shape)\n",
    "print(y.shape)\n",
    "\n",
    "dorothea_result = {}\n",
    "n_features = 50"
   ]
  },
  {
   "cell_type": "code",
   "execution_count": 11,
   "metadata": {},
   "outputs": [],
   "source": [
    "x_train, x_test, y_train, y_test = train_test_split(X, y, stratify=y, random_state=3, test_size=0.2)\n",
    "x_train_b, x_test_b, y_train_b, y_test_b = train_test_split(X, y, stratify=y, random_state=4, test_size=0.2)"
   ]
  },
  {
   "cell_type": "markdown",
   "metadata": {},
   "source": [
    "## Without feature selection"
   ]
  },
  {
   "cell_type": "code",
   "execution_count": 13,
   "metadata": {},
   "outputs": [
    {
     "name": "stdout",
     "output_type": "stream",
     "text": [
      "CPU times: user 3.3 s, sys: 165 ms, total: 3.47 s\n",
      "Wall time: 5.98 s\n"
     ]
    }
   ],
   "source": [
    "%%time\n",
    "\n",
    "start = time.perf_counter()\n",
    "full_precision_d = model_score(x_train, x_test, y_train, y_test)\n",
    "end = time.perf_counter()\n",
    "time_diff = end - start\n",
    "\n",
    "full_precision_d_b = model_score(x_train_b, x_test_b, y_train_b, y_test_b)\n",
    "\n",
    "dorothea_result['w/o'] = {}\n",
    "dorothea_result['w/o']['precision'] = max(full_precision_d, full_precision_d_b)\n",
    "dorothea_result['w/o']['time'] = time_diff\n",
    "dorothea_result['w/o']['stability'] = 1\n",
    "dorothea_result['w/o']['features'] = x_train.shape[1]"
   ]
  },
  {
   "cell_type": "markdown",
   "metadata": {},
   "source": [
    "## Chi-square"
   ]
  },
  {
   "cell_type": "code",
   "execution_count": 277,
   "metadata": {},
   "outputs": [
    {
     "name": "stderr",
     "output_type": "stream",
     "text": [
      "Found %d constant features; they would not be used in fit\n",
      "Found %d constant features; they would not be used in fit\n"
     ]
    },
    {
     "name": "stdout",
     "output_type": "stream",
     "text": [
      "CPU times: user 2min 17s, sys: 5.52 s, total: 2min 22s\n",
      "Wall time: 4min 57s\n"
     ]
    }
   ],
   "source": [
    "%%time\n",
    "\n",
    "start = time.perf_counter()\n",
    "selector = UnivariateFilter(chi2_measure,\n",
    "                          select_k_best(n_features)).fit(x_train, y_train)\n",
    "selected_features = selector.selected_features_\n",
    "x_train_chi2 = x_train.iloc[:, selected_features]\n",
    "x_test_chi2 = x_test.iloc[:, selected_features]\n",
    "chi2_precision_d = model_score(x_train_chi2, x_test_chi2, y_train, y_test)\n",
    "end = time.perf_counter()\n",
    "time_diff = end - start\n",
    "\n",
    "\n",
    "selector_b = UnivariateFilter(chi2_measure,\n",
    "                          select_k_best(n_features)).fit(x_train_b, y_train_b)\n",
    "selected_features_b = selector_b.selected_features_\n",
    "x_train_chi2 = x_train_b.iloc[:, selected_features_b]\n",
    "x_test_chi2 = x_test_b.iloc[:, selected_features_b]\n",
    "chi2_precision_d_b = model_score(x_train_chi2, x_test_chi2, y_train_b, y_test_b)\n",
    "\n",
    "\n",
    "stability_index = jaccard_index(selected_features, selected_features_b, x_train.shape[1])\n",
    "\n",
    "dorothea_result['chi2'] = {}\n",
    "dorothea_result['chi2']['precision'] = max(chi2_precision_d, chi2_precision_d_b)\n",
    "dorothea_result['chi2']['time'] = time_diff\n",
    "dorothea_result['chi2']['stability'] = stability_index\n",
    "dorothea_result['chi2']['features'] = n_features"
   ]
  },
  {
   "cell_type": "markdown",
   "metadata": {},
   "source": [
    "## Random Forest"
   ]
  },
  {
   "cell_type": "code",
   "execution_count": 278,
   "metadata": {},
   "outputs": [
    {
     "name": "stdout",
     "output_type": "stream",
     "text": [
      "CPU times: user 6.02 s, sys: 1.17 s, total: 7.19 s\n",
      "Wall time: 10.6 s\n"
     ]
    }
   ],
   "source": [
    "%%time\n",
    "\n",
    "start = time.perf_counter()\n",
    "selector = SelectFromModel(RandomForestClassifier(n_estimators = 100),\n",
    "                           max_features=n_features).fit(x_train, y_train)\n",
    "selected_features = x_train.columns[selector.get_support()]\n",
    "x_train_rf = x_train.iloc[:, selected_features]\n",
    "x_test_rf = x_test.iloc[:, selected_features]\n",
    "rf_precision_d = model_score(x_train_rf, x_test_rf, y_train, y_test)\n",
    "end = time.perf_counter()\n",
    "time_diff = end - start\n",
    "\n",
    "\n",
    "selector_b = SelectFromModel(RandomForestClassifier(n_estimators = 100),\n",
    "                           max_features=n_features).fit(x_train_b, y_train_b)\n",
    "selected_features_b = x_train_b.columns[selector_b.get_support()]\n",
    "x_train_rf = x_train_b.iloc[:, selected_features_b]\n",
    "x_test_rf = x_test_b.iloc[:, selected_features_b]\n",
    "rf_precision_d_b = model_score(x_train_rf, x_test_rf, y_train_b, y_test_b)\n",
    "\n",
    "\n",
    "stability_index = jaccard_index(selected_features, selected_features_b, x_train.shape[1])\n",
    "\n",
    "dorothea_result['rf'] = {}\n",
    "dorothea_result['rf']['precision'] = max(rf_precision_d, rf_precision_d_b)\n",
    "dorothea_result['rf']['time'] = time_diff\n",
    "dorothea_result['rf']['stability'] = stability_index\n",
    "dorothea_result['rf']['features'] = n_features"
   ]
  },
  {
   "cell_type": "markdown",
   "metadata": {},
   "source": [
    "## SU - Symmetric Uncertainty"
   ]
  },
  {
   "cell_type": "code",
   "execution_count": 256,
   "metadata": {},
   "outputs": [
    {
     "name": "stderr",
     "output_type": "stream",
     "text": [
      "Found %d constant features; they would not be used in fit\n",
      "Found %d constant features; they would not be used in fit\n"
     ]
    },
    {
     "name": "stdout",
     "output_type": "stream",
     "text": [
      "CPU times: user 1min 36s, sys: 1.69 s, total: 1min 37s\n",
      "Wall time: 1min 44s\n"
     ]
    }
   ],
   "source": [
    "%%time\n",
    "\n",
    "start = time.perf_counter()\n",
    "selector = UnivariateFilter(su_measure,\n",
    "                          select_k_best(n_features)).fit(x_train, y_train)\n",
    "selected_features = selector.selected_features_\n",
    "x_train_su = x_train.iloc[:, selected_features]\n",
    "x_test_su = x_test.iloc[:, selected_features]\n",
    "\n",
    "su_precision_d = model_score(x_train_su, x_test_su, y_train, y_test)\n",
    "end = time.perf_counter()\n",
    "time_diff = end - start\n",
    "\n",
    "\n",
    "selector_b = UnivariateFilter(su_measure,\n",
    "                          select_k_best(n_features)).fit(x_train_b, y_train_b)\n",
    "selected_features_b = selector_b.selected_features_\n",
    "x_train_su = x_train_b.iloc[:, selected_features_b]\n",
    "x_test_su = x_test_b.iloc[:, selected_features_b]\n",
    "su_precision_d_b = model_score(x_train_su, x_test_su, y_train_b, y_test_b)\n",
    "\n",
    "\n",
    "stability_index = jaccard_index(selected_features, selected_features_b, x_train.shape[1])\n",
    "\n",
    "dorothea_result['su'] = {}\n",
    "dorothea_result['su']['precision'] = max(su_precision_d, su_precision_d_b)\n",
    "dorothea_result['su']['time'] = time_diff\n",
    "dorothea_result['su']['stability'] = stability_index\n",
    "dorothea_result['su']['features'] = n_features"
   ]
  },
  {
   "cell_type": "markdown",
   "metadata": {},
   "source": [
    "## Relief"
   ]
  },
  {
   "cell_type": "code",
   "execution_count": 279,
   "metadata": {},
   "outputs": [
    {
     "name": "stderr",
     "output_type": "stream",
     "text": [
      "Found %d constant features; they would not be used in fit\n",
      "Found %d constant features; they would not be used in fit\n"
     ]
    },
    {
     "name": "stdout",
     "output_type": "stream",
     "text": [
      "CPU times: user 19 s, sys: 3.93 s, total: 22.9 s\n",
      "Wall time: 31.1 s\n"
     ]
    }
   ],
   "source": [
    "%%time\n",
    "\n",
    "start = time.perf_counter()\n",
    "selector = UnivariateFilter(relief_measure,\n",
    "                          select_k_best(n_features)).fit(x_train, y_train)\n",
    "selected_features = selector.selected_features_\n",
    "x_train_relief = x_train.iloc[:, selected_features]\n",
    "x_test_relief = x_test.iloc[:, selected_features]\n",
    "relief_precision_d = model_score(x_train_relief, x_test_relief, y_train, y_test)\n",
    "end = time.perf_counter()\n",
    "time_diff = end - start\n",
    "\n",
    "\n",
    "selector_b = UnivariateFilter(relief_measure,\n",
    "                          select_k_best(n_features)).fit(x_train_b, y_train_b)\n",
    "selected_features_b = selector_b.selected_features_\n",
    "x_train_relief = x_train_b.iloc[:, selected_features_b]\n",
    "x_test_relief = x_test_b.iloc[:, selected_features_b]\n",
    "relief_precision_d_b = model_score(x_train_relief, x_test_relief, y_train_b, y_test_b)\n",
    "\n",
    "\n",
    "stability_index = jaccard_index(selected_features, selected_features_b, x_train.shape[1])\n",
    "\n",
    "dorothea_result['relief'] = {}\n",
    "dorothea_result['relief']['precision'] = max(relief_precision_d, relief_precision_d_b)\n",
    "dorothea_result['relief']['time'] = time_diff\n",
    "dorothea_result['relief']['stability'] = stability_index\n",
    "dorothea_result['relief']['features'] = n_features"
   ]
  },
  {
   "cell_type": "markdown",
   "metadata": {},
   "source": [
    "## Boruta"
   ]
  },
  {
   "cell_type": "code",
   "execution_count": 286,
   "metadata": {
    "scrolled": true
   },
   "outputs": [
    {
     "name": "stdout",
     "output_type": "stream",
     "text": [
      "Iteration: 1 / 100\n",
      "Iteration: 2 / 100\n",
      "Iteration: 3 / 100\n",
      "Iteration: 4 / 100\n",
      "Iteration: 5 / 100\n",
      "Iteration: 6 / 100\n",
      "Iteration: 7 / 100\n",
      "Iteration: 8 / 100\n",
      "Iteration: 9 / 100\n",
      "Iteration: 10 / 100\n",
      "Iteration: 11 / 100\n",
      "Iteration: 12 / 100\n",
      "Iteration: 13 / 100\n",
      "Iteration: 14 / 100\n",
      "Iteration: 15 / 100\n",
      "Iteration: 16 / 100\n",
      "Iteration: 17 / 100\n",
      "Iteration: 18 / 100\n",
      "Iteration: 19 / 100\n",
      "Iteration: 20 / 100\n",
      "Iteration: 21 / 100\n",
      "Iteration: 22 / 100\n",
      "Iteration: 23 / 100\n",
      "Iteration: 24 / 100\n",
      "Iteration: 25 / 100\n",
      "Iteration: 26 / 100\n",
      "Iteration: 27 / 100\n",
      "Iteration: 28 / 100\n",
      "Iteration: 29 / 100\n",
      "Iteration: 30 / 100\n",
      "Iteration: 31 / 100\n",
      "Iteration: 32 / 100\n",
      "Iteration: 33 / 100\n",
      "Iteration: 34 / 100\n",
      "Iteration: 35 / 100\n",
      "Iteration: 36 / 100\n",
      "Iteration: 37 / 100\n",
      "Iteration: 38 / 100\n",
      "Iteration: 39 / 100\n",
      "Iteration: 40 / 100\n",
      "Iteration: 41 / 100\n",
      "Iteration: 42 / 100\n",
      "Iteration: 43 / 100\n",
      "Iteration: 44 / 100\n",
      "Iteration: 45 / 100\n",
      "Iteration: 46 / 100\n",
      "Iteration: 47 / 100\n",
      "Iteration: 48 / 100\n",
      "Iteration: 49 / 100\n",
      "Iteration: 50 / 100\n",
      "Iteration: 51 / 100\n",
      "Iteration: 52 / 100\n",
      "Iteration: 53 / 100\n",
      "Iteration: 54 / 100\n",
      "Iteration: 55 / 100\n",
      "Iteration: 56 / 100\n",
      "Iteration: 57 / 100\n",
      "Iteration: 58 / 100\n",
      "Iteration: 59 / 100\n",
      "Iteration: 60 / 100\n",
      "Iteration: 61 / 100\n",
      "Iteration: 62 / 100\n",
      "Iteration: 63 / 100\n",
      "Iteration: 64 / 100\n",
      "Iteration: 65 / 100\n",
      "Iteration: 66 / 100\n",
      "Iteration: 67 / 100\n",
      "Iteration: 68 / 100\n",
      "Iteration: 69 / 100\n",
      "Iteration: 70 / 100\n",
      "Iteration: 71 / 100\n",
      "Iteration: 72 / 100\n",
      "Iteration: 73 / 100\n",
      "Iteration: 74 / 100\n",
      "Iteration: 75 / 100\n",
      "Iteration: 76 / 100\n",
      "Iteration: 77 / 100\n",
      "Iteration: 78 / 100\n",
      "Iteration: 79 / 100\n",
      "Iteration: 80 / 100\n",
      "Iteration: 81 / 100\n",
      "Iteration: 82 / 100\n",
      "Iteration: 83 / 100\n",
      "Iteration: 84 / 100\n",
      "Iteration: 85 / 100\n",
      "Iteration: 86 / 100\n",
      "Iteration: 87 / 100\n",
      "Iteration: 88 / 100\n",
      "Iteration: 89 / 100\n",
      "Iteration: 90 / 100\n",
      "Iteration: 91 / 100\n",
      "Iteration: 92 / 100\n",
      "Iteration: 93 / 100\n",
      "Iteration: 94 / 100\n",
      "Iteration: 95 / 100\n",
      "Iteration: 96 / 100\n",
      "Iteration: 97 / 100\n",
      "Iteration: 98 / 100\n",
      "Iteration: 99 / 100\n",
      "\n",
      "\n",
      "BorutaPy finished running.\n",
      "\n",
      "Iteration: \t100 / 100\n",
      "Confirmed: \t36\n",
      "Tentative: \t11\n",
      "Rejected: \t99947\n",
      "Iteration: 1 / 100\n",
      "Iteration: 2 / 100\n",
      "Iteration: 3 / 100\n",
      "Iteration: 4 / 100\n",
      "Iteration: 5 / 100\n",
      "Iteration: 6 / 100\n",
      "Iteration: 7 / 100\n",
      "Iteration: 8 / 100\n",
      "Iteration: 9 / 100\n",
      "Iteration: 10 / 100\n",
      "Iteration: 11 / 100\n",
      "Iteration: 12 / 100\n",
      "Iteration: 13 / 100\n",
      "Iteration: 14 / 100\n",
      "Iteration: 15 / 100\n",
      "Iteration: 16 / 100\n",
      "Iteration: 17 / 100\n",
      "Iteration: 18 / 100\n",
      "Iteration: 19 / 100\n",
      "Iteration: 20 / 100\n",
      "Iteration: 21 / 100\n",
      "Iteration: 22 / 100\n",
      "Iteration: 23 / 100\n",
      "Iteration: 24 / 100\n",
      "Iteration: 25 / 100\n",
      "Iteration: 26 / 100\n",
      "Iteration: 27 / 100\n",
      "Iteration: 28 / 100\n",
      "Iteration: 29 / 100\n",
      "Iteration: 30 / 100\n",
      "Iteration: 31 / 100\n",
      "Iteration: 32 / 100\n",
      "Iteration: 33 / 100\n",
      "Iteration: 34 / 100\n",
      "Iteration: 35 / 100\n",
      "Iteration: 36 / 100\n",
      "Iteration: 37 / 100\n",
      "Iteration: 38 / 100\n",
      "Iteration: 39 / 100\n",
      "Iteration: 40 / 100\n",
      "Iteration: 41 / 100\n",
      "Iteration: 42 / 100\n",
      "Iteration: 43 / 100\n",
      "Iteration: 44 / 100\n",
      "Iteration: 45 / 100\n",
      "Iteration: 46 / 100\n",
      "Iteration: 47 / 100\n",
      "Iteration: 48 / 100\n",
      "Iteration: 49 / 100\n",
      "Iteration: 50 / 100\n",
      "Iteration: 51 / 100\n",
      "Iteration: 52 / 100\n",
      "Iteration: 53 / 100\n",
      "Iteration: 54 / 100\n",
      "Iteration: 55 / 100\n",
      "Iteration: 56 / 100\n",
      "Iteration: 57 / 100\n",
      "Iteration: 58 / 100\n",
      "Iteration: 59 / 100\n",
      "Iteration: 60 / 100\n",
      "Iteration: 61 / 100\n",
      "Iteration: 62 / 100\n",
      "Iteration: 63 / 100\n",
      "Iteration: 64 / 100\n",
      "Iteration: 65 / 100\n",
      "Iteration: 66 / 100\n",
      "Iteration: 67 / 100\n",
      "Iteration: 68 / 100\n",
      "Iteration: 69 / 100\n",
      "Iteration: 70 / 100\n",
      "Iteration: 71 / 100\n",
      "Iteration: 72 / 100\n",
      "Iteration: 73 / 100\n",
      "Iteration: 74 / 100\n",
      "Iteration: 75 / 100\n",
      "Iteration: 76 / 100\n",
      "Iteration: 77 / 100\n",
      "Iteration: 78 / 100\n",
      "Iteration: 79 / 100\n",
      "Iteration: 80 / 100\n",
      "Iteration: 81 / 100\n",
      "Iteration: 82 / 100\n",
      "Iteration: 83 / 100\n",
      "Iteration: 84 / 100\n",
      "Iteration: 85 / 100\n",
      "Iteration: 86 / 100\n",
      "Iteration: 87 / 100\n",
      "Iteration: 88 / 100\n",
      "Iteration: 89 / 100\n",
      "Iteration: 90 / 100\n",
      "Iteration: 91 / 100\n",
      "Iteration: 92 / 100\n",
      "Iteration: 93 / 100\n",
      "Iteration: 94 / 100\n",
      "Iteration: 95 / 100\n",
      "Iteration: 96 / 100\n",
      "Iteration: 97 / 100\n",
      "Iteration: 98 / 100\n",
      "Iteration: 99 / 100\n",
      "\n",
      "\n",
      "BorutaPy finished running.\n",
      "\n",
      "Iteration: \t100 / 100\n",
      "Confirmed: \t35\n",
      "Tentative: \t10\n",
      "Rejected: \t99945\n",
      "CPU times: user 1min 34s, sys: 31.9 s, total: 2min 6s\n",
      "Wall time: 2min 33s\n"
     ]
    }
   ],
   "source": [
    "%%time\n",
    "\n",
    "x_values = x_train.values\n",
    "y_values = y_train.values.ravel()\n",
    "\n",
    "start = time.perf_counter()\n",
    "rf = RandomForestClassifier(n_estimators=50, max_depth=5)\n",
    "selector = BorutaPy(rf, n_estimators=50, verbose=1, random_state=1)\n",
    "selector.fit(x_values, y_values)\n",
    "selected_features = x_train.columns[selector.support_]\n",
    "\n",
    "x_train_boruta = selector.transform(x_train.values) # call transform() on X to filter it down to selected features\n",
    "x_test_boruta = selector.transform(x_test.values)\n",
    "\n",
    "boruta_precision_d = model_score(x_train_boruta, x_test_boruta, y_train, y_test)\n",
    "end = time.perf_counter()\n",
    "time_diff = end - start\n",
    "\n",
    "\n",
    "x_values = x_train_b.values\n",
    "y_values = y_train_b.values.ravel()\n",
    "\n",
    "rf = RandomForestClassifier(n_estimators=50, max_depth=5)\n",
    "selector_b = BorutaPy(rf, n_estimators=50, verbose=1, random_state=1)\n",
    "selector_b.fit(x_values, y_values)\n",
    "selected_features_b = x_train_b.columns[selector_b.support_]\n",
    "\n",
    "x_train_boruta = selector_b.transform(x_train_b.values) # call transform() on X to filter it down to selected features\n",
    "x_test_boruta = selector_b.transform(x_test_b.values)\n",
    "\n",
    "boruta_precision_d_b = model_score(x_train_boruta, x_test_boruta, y_train_b, y_test_b)\n",
    "\n",
    "\n",
    "stability_index = jaccard_index(selected_features, selected_features_b, x_train.shape[1])\n",
    "\n",
    "dorothea_result['boruta'] = {}\n",
    "dorothea_result['boruta']['precision'] = max(boruta_precision_d, boruta_precision_d_b)\n",
    "dorothea_result['boruta']['time'] = time_diff\n",
    "dorothea_result['boruta']['stability'] = stability_index\n",
    "dorothea_result['boruta']['features'] = max(len(selected_features), len(selected_features_b))"
   ]
  },
  {
   "cell_type": "markdown",
   "metadata": {},
   "source": [
    "## Dorothea result"
   ]
  },
  {
   "cell_type": "code",
   "execution_count": 287,
   "metadata": {},
   "outputs": [
    {
     "name": "stdout",
     "output_type": "stream",
     "text": [
      "{'boruta': {'features': 36,\n",
      "            'precision': 0.9,\n",
      "            'stability': 0.42,\n",
      "            'time': 77.35342771501746},\n",
      " 'chi2': {'features': 50,\n",
      "          'precision': 1.0,\n",
      "          'stability': 0.7857142857142857,\n",
      "          'time': 146.2416198248975},\n",
      " 'relief': {'features': 50,\n",
      "            'precision': 1.0,\n",
      "            'stability': 0.3333333333333333,\n",
      "            'time': 15.024194821016863},\n",
      " 'rf': {'features': 50,\n",
      "        'precision': 1.0,\n",
      "        'stability': 0.3698630136986301,\n",
      "        'time': 6.101353017031215},\n",
      " 'w/o': {'features': 100000,\n",
      "         'precision': 1.0,\n",
      "         'stability': 1,\n",
      "         'time': 13.39689862402156}}\n"
     ]
    }
   ],
   "source": [
    "pp.pprint(dorothea_result)"
   ]
  },
  {
   "cell_type": "code",
   "execution_count": 288,
   "metadata": {},
   "outputs": [
    {
     "name": "stdout",
     "output_type": "stream",
     "text": [
      "              boruta        chi2     relief         rf            w/o\n",
      "precision   0.900000    1.000000   1.000000   1.000000       1.000000\n",
      "time       77.353428  146.241620  15.024195   6.101353      13.396899\n",
      "stability   0.420000    0.785714   0.333333   0.369863       1.000000\n",
      "features   36.000000   50.000000  50.000000  50.000000  100000.000000\n"
     ]
    }
   ],
   "source": [
    "dorothea_result_df = pd.DataFrame.from_records(dorothea_result)\n",
    "print(dorothea_result_df)"
   ]
  },
  {
   "cell_type": "code",
   "execution_count": 289,
   "metadata": {},
   "outputs": [],
   "source": [
    "dorothea_result_df.to_excel('./results/dorothea_result.xlsx')"
   ]
  },
  {
   "cell_type": "markdown",
   "metadata": {},
   "source": [
    "# Dataset: Gisette (6000 x 5000)"
   ]
  },
  {
   "cell_type": "code",
   "execution_count": 261,
   "metadata": {},
   "outputs": [
    {
     "name": "stdout",
     "output_type": "stream",
     "text": [
      "(6000, 5000)\n",
      "(6000,)\n"
     ]
    }
   ],
   "source": [
    "gisette = pd.read_csv(f'{data_path}/gisette.csv', header=None)\n",
    "\n",
    "X = gisette.iloc[:, :gisette.shape[1]-1]\n",
    "y = gisette.iloc[:, -1]\n",
    "\n",
    "print(X.shape)\n",
    "print(y.shape)\n",
    "\n",
    "gisette_result = {}\n",
    "n_features = 50"
   ]
  },
  {
   "cell_type": "code",
   "execution_count": 262,
   "metadata": {},
   "outputs": [],
   "source": [
    "x_train, x_test, y_train, y_test = train_test_split(X, y, stratify=y, random_state=1, test_size=0.2)\n",
    "x_train_b, x_test_b, y_train_b, y_test_b = train_test_split(X, y, stratify=y, random_state=2, test_size=0.2)"
   ]
  },
  {
   "cell_type": "markdown",
   "metadata": {},
   "source": [
    "## Without feature selection"
   ]
  },
  {
   "cell_type": "code",
   "execution_count": 263,
   "metadata": {},
   "outputs": [
    {
     "name": "stdout",
     "output_type": "stream",
     "text": [
      "CPU times: user 11.9 s, sys: 624 ms, total: 12.6 s\n",
      "Wall time: 8.09 s\n"
     ]
    }
   ],
   "source": [
    "%%time\n",
    "\n",
    "start = time.perf_counter()\n",
    "full_precision_g = model_score(x_train, x_test, y_train, y_test)\n",
    "end = time.perf_counter()\n",
    "time_diff = end - start\n",
    "\n",
    "full_precision_g_b = model_score(x_train_b, x_test_b, y_train_b, y_test_b)\n",
    "\n",
    "gisette_result['w/o'] = {}\n",
    "gisette_result['w/o']['precision'] = max(full_precision_g, full_precision_g_b)\n",
    "gisette_result['w/o']['time'] = time_diff\n",
    "gisette_result['w/o']['stability'] = 1\n",
    "gisette_result['w/o']['features'] = x_train.shape[1]"
   ]
  },
  {
   "cell_type": "markdown",
   "metadata": {},
   "source": [
    "## Chi-square"
   ]
  },
  {
   "cell_type": "code",
   "execution_count": 264,
   "metadata": {},
   "outputs": [
    {
     "name": "stderr",
     "output_type": "stream",
     "text": [
      "Found %d constant features; they would not be used in fit\n",
      "Found %d constant features; they would not be used in fit\n"
     ]
    },
    {
     "name": "stdout",
     "output_type": "stream",
     "text": [
      "CPU times: user 17.7 s, sys: 792 ms, total: 18.5 s\n",
      "Wall time: 21.2 s\n"
     ]
    }
   ],
   "source": [
    "%%time\n",
    "\n",
    "start = time.perf_counter()\n",
    "selector = UnivariateFilter(chi2_measure,\n",
    "                          select_k_best(n_features)).fit(x_train, y_train)\n",
    "selected_features = selector.selected_features_\n",
    "x_train_chi2 = x_train.iloc[:, selected_features]\n",
    "x_test_chi2 = x_test.iloc[:, selected_features]\n",
    "chi2_precision_g = model_score(x_train_chi2, x_test_chi2, y_train, y_test)\n",
    "end = time.perf_counter()\n",
    "time_diff = end - start\n",
    "\n",
    "\n",
    "selector = UnivariateFilter(chi2_measure,\n",
    "                          select_k_best(n_features)).fit(x_train_b, y_train_b)\n",
    "selected_features_b = selector.selected_features_\n",
    "x_train_chi2 = x_train_b.iloc[:, selected_features_b]\n",
    "x_test_chi2 = x_test_b.iloc[:, selected_features_b]\n",
    "chi2_precision_g_b = model_score(x_train_chi2, x_test_chi2, y_train_b, y_test_b)\n",
    "\n",
    "\n",
    "stability_index = jaccard_index(selected_features, selected_features_b, x_train.shape[1])\n",
    "\n",
    "gisette_result['chi2'] = {}\n",
    "gisette_result['chi2']['precision'] = max(chi2_precision_g, chi2_precision_g_b)\n",
    "gisette_result['chi2']['time'] = time_diff\n",
    "gisette_result['chi2']['stability'] = stability_index\n",
    "gisette_result['chi2']['features'] = n_features"
   ]
  },
  {
   "cell_type": "markdown",
   "metadata": {},
   "source": [
    "## Random Forest"
   ]
  },
  {
   "cell_type": "code",
   "execution_count": 265,
   "metadata": {},
   "outputs": [
    {
     "name": "stdout",
     "output_type": "stream",
     "text": [
      "CPU times: user 11.8 s, sys: 362 ms, total: 12.2 s\n",
      "Wall time: 14 s\n"
     ]
    }
   ],
   "source": [
    "%%time\n",
    "\n",
    "start = time.perf_counter()\n",
    "selector = SelectFromModel(RandomForestClassifier(n_estimators = 100),\n",
    "                           max_features=n_features).fit(x_train, y_train)\n",
    "selected_features = x_train.columns[selector.get_support()]\n",
    "x_train_rf = x_train.iloc[:, selected_features]\n",
    "x_test_rf = x_test.iloc[:, selected_features]\n",
    "rf_precision_g = model_score(x_train_rf, x_test_rf, y_train, y_test)\n",
    "end = time.perf_counter()\n",
    "time_diff = end - start\n",
    "\n",
    "\n",
    "selector = SelectFromModel(RandomForestClassifier(n_estimators = 100),\n",
    "                           max_features=n_features).fit(x_train_b, y_train_b)\n",
    "selected_features_b = x_train_b.columns[selector.get_support()]\n",
    "x_train_rf = x_train_b.iloc[:, selected_features_b]\n",
    "x_test_rf = x_test_b.iloc[:, selected_features_b]\n",
    "rf_precision_g_b = model_score(x_train_rf, x_test_rf, y_train_b, y_test_b)\n",
    "\n",
    "\n",
    "stability_index = jaccard_index(selected_features, selected_features_b, x_train.shape[1])\n",
    "\n",
    "gisette_result['rf'] = {}\n",
    "gisette_result['rf']['precision'] = max(rf_precision_g, rf_precision_g_b)\n",
    "gisette_result['rf']['time'] = time_diff\n",
    "gisette_result['rf']['stability'] = stability_index\n",
    "gisette_result['rf']['features'] = n_features"
   ]
  },
  {
   "cell_type": "markdown",
   "metadata": {},
   "source": [
    "## SU - Symmetric Uncertainty"
   ]
  },
  {
   "cell_type": "code",
   "execution_count": 267,
   "metadata": {},
   "outputs": [
    {
     "name": "stderr",
     "output_type": "stream",
     "text": [
      "Found %d constant features; they would not be used in fit\n",
      "Found %d constant features; they would not be used in fit\n"
     ]
    },
    {
     "name": "stdout",
     "output_type": "stream",
     "text": [
      "CPU times: user 58.6 s, sys: 1.39 s, total: 60 s\n",
      "Wall time: 1min 10s\n"
     ]
    }
   ],
   "source": [
    "%%time\n",
    "\n",
    "start = time.perf_counter()\n",
    "selector = UnivariateFilter(su_measure,\n",
    "                          select_k_best(n_features)).fit(x_train, y_train)\n",
    "selected_features = selector.selected_features_\n",
    "x_train_su = x_train.iloc[:, selected_features]\n",
    "x_test_su = x_test.iloc[:, selected_features]\n",
    "su_precision_g = model_score(x_train_su, x_test_su, y_train, y_test)\n",
    "end = time.perf_counter()\n",
    "time_diff = end - start\n",
    "\n",
    "\n",
    "selector = UnivariateFilter(su_measure,\n",
    "                          select_k_best(n_features)).fit(x_train_b, y_train_b)\n",
    "selected_features_b = selector.selected_features_\n",
    "x_train_su = x_train_b.iloc[:, selected_features_b]\n",
    "x_test_su = x_test_b.iloc[:, selected_features_b]\n",
    "su_precision_g_b = model_score(x_train_su, x_test_su, y_train_b, y_test_b)\n",
    "\n",
    "\n",
    "stability_index = jaccard_index(selected_features, selected_features_b, x_train.shape[1])\n",
    "\n",
    "gisette_result['su'] = {}\n",
    "gisette_result['su']['precision'] = max(su_precision_g, su_precision_g_b)\n",
    "gisette_result['su']['time'] = time_diff\n",
    "gisette_result['su']['stability'] = stability_index\n",
    "gisette_result['su']['features'] = n_features"
   ]
  },
  {
   "cell_type": "markdown",
   "metadata": {},
   "source": [
    "## Relief"
   ]
  },
  {
   "cell_type": "code",
   "execution_count": 269,
   "metadata": {},
   "outputs": [
    {
     "name": "stderr",
     "output_type": "stream",
     "text": [
      "Found %d constant features; they would not be used in fit\n",
      "Found %d constant features; they would not be used in fit\n"
     ]
    },
    {
     "name": "stdout",
     "output_type": "stream",
     "text": [
      "CPU times: user 18.9 s, sys: 2.13 s, total: 21 s\n",
      "Wall time: 20.6 s\n"
     ]
    }
   ],
   "source": [
    "%%time\n",
    "\n",
    "start = time.perf_counter()\n",
    "selector = UnivariateFilter(relief_measure,\n",
    "                          select_k_best(n_features)).fit(x_train, y_train)\n",
    "selected_features = selector.selected_features_\n",
    "x_train_relief = x_train.iloc[:, selected_features]\n",
    "x_test_relief = x_test.iloc[:, selected_features]\n",
    "relief_precision_g = model_score(x_train_relief, x_test_relief, y_train, y_test)\n",
    "end = time.perf_counter()\n",
    "time_diff = end - start\n",
    "\n",
    "\n",
    "selector = UnivariateFilter(relief_measure,\n",
    "                          select_k_best(n_features)).fit(x_train_b, y_train_b)\n",
    "selected_features_b = selector.selected_features_\n",
    "x_train_relief = x_train_b.iloc[:, selected_features_b]\n",
    "x_test_relief = x_test_b.iloc[:, selected_features_b]\n",
    "relief_precision_g_b = model_score(x_train_relief, x_test_relief, y_train_b, y_test_b)\n",
    "\n",
    "\n",
    "stability_index = jaccard_index(selected_features, selected_features_b, x_train.shape[1])\n",
    "\n",
    "gisette_result['relief'] = {}\n",
    "gisette_result['relief']['precision'] = max(relief_precision_g, relief_precision_g_b)\n",
    "gisette_result['relief']['time'] = time_diff\n",
    "gisette_result['relief']['stability'] = stability_index\n",
    "gisette_result['relief']['features'] = n_features"
   ]
  },
  {
   "cell_type": "markdown",
   "metadata": {},
   "source": [
    "## Boruta"
   ]
  },
  {
   "cell_type": "code",
   "execution_count": 270,
   "metadata": {},
   "outputs": [
    {
     "name": "stdout",
     "output_type": "stream",
     "text": [
      "Iteration: 1 / 100\n",
      "Iteration: 2 / 100\n",
      "Iteration: 3 / 100\n",
      "Iteration: 4 / 100\n",
      "Iteration: 5 / 100\n",
      "Iteration: 6 / 100\n",
      "Iteration: 7 / 100\n",
      "Iteration: 8 / 100\n",
      "Iteration: 9 / 100\n",
      "Iteration: 10 / 100\n",
      "Iteration: 11 / 100\n",
      "Iteration: 12 / 100\n",
      "Iteration: 13 / 100\n",
      "Iteration: 14 / 100\n",
      "Iteration: 15 / 100\n",
      "Iteration: 16 / 100\n",
      "Iteration: 17 / 100\n",
      "Iteration: 18 / 100\n",
      "Iteration: 19 / 100\n",
      "Iteration: 20 / 100\n",
      "Iteration: 21 / 100\n",
      "Iteration: 22 / 100\n",
      "Iteration: 23 / 100\n",
      "Iteration: 24 / 100\n",
      "Iteration: 25 / 100\n",
      "Iteration: 26 / 100\n",
      "Iteration: 27 / 100\n",
      "Iteration: 28 / 100\n",
      "Iteration: 29 / 100\n",
      "Iteration: 30 / 100\n",
      "Iteration: 31 / 100\n",
      "Iteration: 32 / 100\n",
      "Iteration: 33 / 100\n",
      "Iteration: 34 / 100\n",
      "Iteration: 35 / 100\n",
      "Iteration: 36 / 100\n",
      "Iteration: 37 / 100\n",
      "Iteration: 38 / 100\n",
      "Iteration: 39 / 100\n",
      "Iteration: 40 / 100\n",
      "Iteration: 41 / 100\n",
      "Iteration: 42 / 100\n",
      "Iteration: 43 / 100\n",
      "Iteration: 44 / 100\n",
      "Iteration: 45 / 100\n",
      "Iteration: 46 / 100\n",
      "Iteration: 47 / 100\n",
      "Iteration: 48 / 100\n",
      "Iteration: 49 / 100\n",
      "Iteration: 50 / 100\n",
      "Iteration: 51 / 100\n",
      "Iteration: 52 / 100\n",
      "Iteration: 53 / 100\n",
      "Iteration: 54 / 100\n",
      "Iteration: 55 / 100\n",
      "Iteration: 56 / 100\n",
      "Iteration: 57 / 100\n",
      "Iteration: 58 / 100\n",
      "Iteration: 59 / 100\n",
      "Iteration: 60 / 100\n",
      "Iteration: 61 / 100\n",
      "Iteration: 62 / 100\n",
      "Iteration: 63 / 100\n",
      "Iteration: 64 / 100\n",
      "Iteration: 65 / 100\n",
      "Iteration: 66 / 100\n",
      "Iteration: 67 / 100\n",
      "Iteration: 68 / 100\n",
      "Iteration: 69 / 100\n",
      "Iteration: 70 / 100\n",
      "Iteration: 71 / 100\n",
      "Iteration: 72 / 100\n",
      "Iteration: 73 / 100\n",
      "Iteration: 74 / 100\n",
      "Iteration: 75 / 100\n",
      "Iteration: 76 / 100\n",
      "Iteration: 77 / 100\n",
      "Iteration: 78 / 100\n",
      "Iteration: 79 / 100\n",
      "Iteration: 80 / 100\n",
      "Iteration: 81 / 100\n",
      "Iteration: 82 / 100\n",
      "Iteration: 83 / 100\n",
      "Iteration: 84 / 100\n",
      "Iteration: 85 / 100\n",
      "Iteration: 86 / 100\n",
      "Iteration: 87 / 100\n",
      "Iteration: 88 / 100\n",
      "Iteration: 89 / 100\n",
      "Iteration: 90 / 100\n",
      "Iteration: 91 / 100\n",
      "Iteration: 92 / 100\n",
      "Iteration: 93 / 100\n",
      "Iteration: 94 / 100\n",
      "Iteration: 95 / 100\n",
      "Iteration: 96 / 100\n",
      "Iteration: 97 / 100\n",
      "Iteration: 98 / 100\n",
      "Iteration: 99 / 100\n",
      "\n",
      "\n",
      "BorutaPy finished running.\n",
      "\n",
      "Iteration: \t100 / 100\n",
      "Confirmed: \t228\n",
      "Tentative: \t123\n",
      "Rejected: \t4502\n",
      "Iteration: 1 / 100\n",
      "Iteration: 2 / 100\n",
      "Iteration: 3 / 100\n",
      "Iteration: 4 / 100\n",
      "Iteration: 5 / 100\n",
      "Iteration: 6 / 100\n",
      "Iteration: 7 / 100\n",
      "Iteration: 8 / 100\n",
      "Iteration: 9 / 100\n",
      "Iteration: 10 / 100\n",
      "Iteration: 11 / 100\n",
      "Iteration: 12 / 100\n",
      "Iteration: 13 / 100\n",
      "Iteration: 14 / 100\n",
      "Iteration: 15 / 100\n",
      "Iteration: 16 / 100\n",
      "Iteration: 17 / 100\n",
      "Iteration: 18 / 100\n",
      "Iteration: 19 / 100\n",
      "Iteration: 20 / 100\n",
      "Iteration: 21 / 100\n",
      "Iteration: 22 / 100\n",
      "Iteration: 23 / 100\n",
      "Iteration: 24 / 100\n",
      "Iteration: 25 / 100\n",
      "Iteration: 26 / 100\n",
      "Iteration: 27 / 100\n",
      "Iteration: 28 / 100\n",
      "Iteration: 29 / 100\n",
      "Iteration: 30 / 100\n",
      "Iteration: 31 / 100\n",
      "Iteration: 32 / 100\n",
      "Iteration: 33 / 100\n",
      "Iteration: 34 / 100\n",
      "Iteration: 35 / 100\n",
      "Iteration: 36 / 100\n",
      "Iteration: 37 / 100\n",
      "Iteration: 38 / 100\n",
      "Iteration: 39 / 100\n",
      "Iteration: 40 / 100\n",
      "Iteration: 41 / 100\n",
      "Iteration: 42 / 100\n",
      "Iteration: 43 / 100\n",
      "Iteration: 44 / 100\n",
      "Iteration: 45 / 100\n",
      "Iteration: 46 / 100\n",
      "Iteration: 47 / 100\n",
      "Iteration: 48 / 100\n",
      "Iteration: 49 / 100\n",
      "Iteration: 50 / 100\n",
      "Iteration: 51 / 100\n",
      "Iteration: 52 / 100\n",
      "Iteration: 53 / 100\n",
      "Iteration: 54 / 100\n",
      "Iteration: 55 / 100\n",
      "Iteration: 56 / 100\n",
      "Iteration: 57 / 100\n",
      "Iteration: 58 / 100\n",
      "Iteration: 59 / 100\n",
      "Iteration: 60 / 100\n",
      "Iteration: 61 / 100\n",
      "Iteration: 62 / 100\n",
      "Iteration: 63 / 100\n",
      "Iteration: 64 / 100\n",
      "Iteration: 65 / 100\n",
      "Iteration: 66 / 100\n",
      "Iteration: 67 / 100\n",
      "Iteration: 68 / 100\n",
      "Iteration: 69 / 100\n",
      "Iteration: 70 / 100\n",
      "Iteration: 71 / 100\n",
      "Iteration: 72 / 100\n",
      "Iteration: 73 / 100\n",
      "Iteration: 74 / 100\n",
      "Iteration: 75 / 100\n",
      "Iteration: 76 / 100\n",
      "Iteration: 77 / 100\n",
      "Iteration: 78 / 100\n",
      "Iteration: 79 / 100\n",
      "Iteration: 80 / 100\n",
      "Iteration: 81 / 100\n",
      "Iteration: 82 / 100\n",
      "Iteration: 83 / 100\n",
      "Iteration: 84 / 100\n",
      "Iteration: 85 / 100\n",
      "Iteration: 86 / 100\n",
      "Iteration: 87 / 100\n",
      "Iteration: 88 / 100\n",
      "Iteration: 89 / 100\n",
      "Iteration: 90 / 100\n",
      "Iteration: 91 / 100\n",
      "Iteration: 92 / 100\n",
      "Iteration: 93 / 100\n",
      "Iteration: 94 / 100\n",
      "Iteration: 95 / 100\n",
      "Iteration: 96 / 100\n",
      "Iteration: 97 / 100\n",
      "Iteration: 98 / 100\n",
      "Iteration: 99 / 100\n",
      "\n",
      "\n",
      "BorutaPy finished running.\n",
      "\n",
      "Iteration: \t100 / 100\n",
      "Confirmed: \t215\n",
      "Tentative: \t126\n",
      "Rejected: \t4521\n",
      "CPU times: user 3min 7s, sys: 13.7 s, total: 3min 20s\n",
      "Wall time: 4min 1s\n"
     ]
    }
   ],
   "source": [
    "%%time\n",
    "\n",
    "x_values = x_train.values\n",
    "y_values = y_train.values.ravel()\n",
    "\n",
    "start = time.perf_counter()\n",
    "rf = RandomForestClassifier(n_estimators=50, max_depth=5)\n",
    "selector = BorutaPy(rf, n_estimators=50, verbose=1, random_state=1)\n",
    "selector.fit(x_values, y_values)\n",
    "selected_features = x_train.columns[selector.support_]\n",
    "\n",
    "x_train_boruta = selector.transform(x_train.values) # call transform() on X to filter it down to selected features\n",
    "x_test_boruta = selector.transform(x_test.values)\n",
    "\n",
    "boruta_precision_g = model_score(x_train_boruta, x_test_boruta, y_train, y_test)\n",
    "end = time.perf_counter()\n",
    "time_diff = end - start\n",
    "\n",
    "\n",
    "x_values = x_train_b.values\n",
    "y_values = y_train_b.values.ravel()\n",
    "\n",
    "rf = RandomForestClassifier(n_estimators=50, max_depth=5)\n",
    "selector_b = BorutaPy(rf, n_estimators=50, verbose=1, random_state=1)\n",
    "selector_b.fit(x_values, y_values)\n",
    "selected_features_b = x_train_b.columns[selector_b.support_]\n",
    "\n",
    "x_train_boruta = selector_b.transform(x_train_b.values) # call transform() on X to filter it down to selected features\n",
    "x_test_boruta = selector_b.transform(x_test_b.values)\n",
    "\n",
    "boruta_precision_g_b = model_score(x_train_boruta, x_test_boruta, y_train_b, y_test_b)\n",
    "\n",
    "\n",
    "stability_index = jaccard_index(selected_features, selected_features_b)\n",
    "\n",
    "gisette_result['boruta'] = {}\n",
    "gisette_result['boruta']['precision'] = max(boruta_precision_g, boruta_precision_g_b)\n",
    "gisette_result['boruta']['time'] = time_diff\n",
    "gisette_result['boruta']['stability'] = stability_index\n",
    "gisette_result['boruta']['features'] = max(len(selected_features), len(selected_features_b))"
   ]
  },
  {
   "cell_type": "markdown",
   "metadata": {},
   "source": [
    "## Gisette result"
   ]
  },
  {
   "cell_type": "code",
   "execution_count": 271,
   "metadata": {},
   "outputs": [
    {
     "name": "stdout",
     "output_type": "stream",
     "text": [
      "{'boruta': {'features': 228,\n",
      "            'precision': 0.9658119658119658,\n",
      "            'stability': 0.7791164658634538,\n",
      "            'time': 126.89449593005702},\n",
      " 'chi2': {'features': 50,\n",
      "          'precision': 0.92,\n",
      "          'stability': 1.0,\n",
      "          'time': 10.372468177927658},\n",
      " 'relief': {'features': 50,\n",
      "            'precision': 0.9035532994923858,\n",
      "            'stability': 0.8181818181818182,\n",
      "            'time': 10.287922961986624},\n",
      " 'rf': {'features': 50,\n",
      "        'precision': 0.9290540540540541,\n",
      "        'stability': 0.4492753623188406,\n",
      "        'time': 7.083289135945961},\n",
      " 'su': {'features': 50,\n",
      "        'precision': 0.9181969949916527,\n",
      "        'stability': 1.0,\n",
      "        'time': 37.153728437027894},\n",
      " 'w/o': {'features': 5000,\n",
      "         'precision': 0.9829642248722317,\n",
      "         'stability': 1,\n",
      "         'time': 4.315752376918681}}\n"
     ]
    }
   ],
   "source": [
    "pp.pprint(gisette_result)"
   ]
  },
  {
   "cell_type": "code",
   "execution_count": 272,
   "metadata": {},
   "outputs": [
    {
     "name": "stdout",
     "output_type": "stream",
     "text": [
      "               boruta       chi2     relief         rf         su          w/o\n",
      "precision    0.965812   0.920000   0.903553   0.929054   0.918197     0.982964\n",
      "time       126.894496  10.372468  10.287923   7.083289  37.153728     4.315752\n",
      "stability    0.779116   1.000000   0.818182   0.449275   1.000000     1.000000\n",
      "features   228.000000  50.000000  50.000000  50.000000  50.000000  5000.000000\n"
     ]
    }
   ],
   "source": [
    "gisette_result_df = pd.DataFrame.from_records(gisette_result)\n",
    "print(gisette_result_df)"
   ]
  },
  {
   "cell_type": "code",
   "execution_count": 273,
   "metadata": {},
   "outputs": [],
   "source": [
    "gisette_result_df.to_excel('./results/gisette_result.xlsx')"
   ]
  },
  {
   "cell_type": "markdown",
   "metadata": {},
   "source": [
    "# Dataset: Dexter(300 x 20000)"
   ]
  },
  {
   "cell_type": "code",
   "execution_count": 15,
   "metadata": {},
   "outputs": [
    {
     "name": "stdout",
     "output_type": "stream",
     "text": [
      "(300, 20000)\n",
      "(300,)\n"
     ]
    }
   ],
   "source": [
    "dexter = pd.read_csv(f'{data_path}/dexter.csv', header=None)\n",
    "X = dexter.iloc[:, :dexter.shape[1]-1]\n",
    "y = dexter.iloc[:, -1]\n",
    "\n",
    "print(X.shape)\n",
    "print(y.shape)\n",
    "\n",
    "dexter_result = {}\n",
    "n_features = 50"
   ]
  },
  {
   "cell_type": "code",
   "execution_count": 16,
   "metadata": {},
   "outputs": [],
   "source": [
    "x_train, x_test, y_train, y_test = train_test_split(X, y, stratify=y, random_state=3, test_size=0.2)\n",
    "x_train_b, x_test_b, y_train_b, y_test_b = train_test_split(X, y, stratify=y, random_state=4, test_size=0.2)"
   ]
  },
  {
   "cell_type": "markdown",
   "metadata": {},
   "source": [
    "## Without feature selection"
   ]
  },
  {
   "cell_type": "code",
   "execution_count": 17,
   "metadata": {},
   "outputs": [
    {
     "name": "stdout",
     "output_type": "stream",
     "text": [
      "CPU times: user 3.11 s, sys: 160 ms, total: 3.27 s\n",
      "Wall time: 19.5 s\n"
     ]
    }
   ],
   "source": [
    "%%time\n",
    "\n",
    "start = time.perf_counter()\n",
    "full_precision_d = model_score(x_train, x_test, y_train, y_test)\n",
    "end = time.perf_counter()\n",
    "time_diff = end - start\n",
    "\n",
    "full_precision_d_b = model_score(x_train_b, x_test_b, y_train_b, y_test_b)\n",
    "\n",
    "dexter_result['w/o'] = {}\n",
    "dexter_result['w/o']['precision'] = max(full_precision_d, full_precision_d_b)\n",
    "dexter_result['w/o']['time'] = time_diff\n",
    "dexter_result['w/o']['stability'] = 1\n",
    "dexter_result['w/o']['features'] = x_train.shape[1]"
   ]
  },
  {
   "cell_type": "markdown",
   "metadata": {},
   "source": [
    "## Chi-square"
   ]
  },
  {
   "cell_type": "code",
   "execution_count": 19,
   "metadata": {},
   "outputs": [
    {
     "name": "stderr",
     "output_type": "stream",
     "text": [
      "Found %d constant features; they would not be used in fit\n",
      "Found %d constant features; they would not be used in fit\n"
     ]
    },
    {
     "name": "stdout",
     "output_type": "stream",
     "text": [
      "CPU times: user 6.87 s, sys: 182 ms, total: 7.06 s\n",
      "Wall time: 9.36 s\n"
     ]
    }
   ],
   "source": [
    "%%time\n",
    "\n",
    "start = time.perf_counter()\n",
    "selector = UnivariateFilter(chi2_measure,\n",
    "                          select_k_best(n_features)).fit(x_train, y_train)\n",
    "selected_features = selector.selected_features_\n",
    "x_train_chi2 = x_train.iloc[:, selected_features]\n",
    "x_test_chi2 = x_test.iloc[:, selected_features]\n",
    "chi2_precision_d = model_score(x_train_chi2, x_test_chi2, y_train, y_test)\n",
    "end = time.perf_counter()\n",
    "time_diff = end - start\n",
    "\n",
    "\n",
    "selector_b = UnivariateFilter(chi2_measure,\n",
    "                          select_k_best(n_features)).fit(x_train_b, y_train_b)\n",
    "selected_features_b = selector_b.selected_features_\n",
    "x_train_chi2 = x_train_b.iloc[:, selected_features_b]\n",
    "x_test_chi2 = x_test_b.iloc[:, selected_features_b]\n",
    "chi2_precision_d_b = model_score(x_train_chi2, x_test_chi2, y_train_b, y_test_b)\n",
    "\n",
    "\n",
    "stability_index = jaccard_index(selected_features, selected_features_b, x_train.shape[1])\n",
    "\n",
    "dexter_result['chi2'] = {}\n",
    "dexter_result['chi2']['precision'] = max(chi2_precision_d, chi2_precision_d_b)\n",
    "dexter_result['chi2']['time'] = time_diff\n",
    "dexter_result['chi2']['stability'] = stability_index\n",
    "dexter_result['chi2']['features'] = n_features"
   ]
  },
  {
   "cell_type": "markdown",
   "metadata": {},
   "source": [
    "## Random forest"
   ]
  },
  {
   "cell_type": "code",
   "execution_count": 20,
   "metadata": {},
   "outputs": [
    {
     "name": "stdout",
     "output_type": "stream",
     "text": [
      "CPU times: user 1.28 s, sys: 107 ms, total: 1.39 s\n",
      "Wall time: 1.49 s\n"
     ]
    }
   ],
   "source": [
    "%%time\n",
    "\n",
    "start = time.perf_counter()\n",
    "selector = SelectFromModel(RandomForestClassifier(n_estimators = 100),\n",
    "                           max_features=n_features).fit(x_train, y_train)\n",
    "selected_features = x_train.columns[selector.get_support()]\n",
    "x_train_rf = x_train.iloc[:, selected_features]\n",
    "x_test_rf = x_test.iloc[:, selected_features]\n",
    "rf_precision_d = model_score(x_train_rf, x_test_rf, y_train, y_test)\n",
    "end = time.perf_counter()\n",
    "time_diff = end - start\n",
    "\n",
    "\n",
    "selector_b = SelectFromModel(RandomForestClassifier(n_estimators = 100),\n",
    "                           max_features=n_features).fit(x_train_b, y_train_b)\n",
    "selected_features_b = x_train_b.columns[selector_b.get_support()]\n",
    "x_train_rf = x_train_b.iloc[:, selected_features_b]\n",
    "x_test_rf = x_test_b.iloc[:, selected_features_b]\n",
    "rf_precision_d_b = model_score(x_train_rf, x_test_rf, y_train_b, y_test_b)\n",
    "\n",
    "\n",
    "stability_index = jaccard_index(selected_features, selected_features_b, x_train.shape[1])\n",
    "\n",
    "dexter_result['rf'] = {}\n",
    "dexter_result['rf']['precision'] = max(rf_precision_d, rf_precision_d_b)\n",
    "dexter_result['rf']['time'] = time_diff\n",
    "dexter_result['rf']['stability'] = stability_index\n",
    "dexter_result['rf']['features'] = n_features"
   ]
  },
  {
   "cell_type": "markdown",
   "metadata": {},
   "source": [
    "## SU — Symmetrical Uncertainty"
   ]
  },
  {
   "cell_type": "code",
   "execution_count": 21,
   "metadata": {},
   "outputs": [
    {
     "name": "stderr",
     "output_type": "stream",
     "text": [
      "Found %d constant features; they would not be used in fit\n",
      "Found %d constant features; they would not be used in fit\n"
     ]
    },
    {
     "name": "stdout",
     "output_type": "stream",
     "text": [
      "CPU times: user 3.92 s, sys: 101 ms, total: 4.02 s\n",
      "Wall time: 4.53 s\n"
     ]
    }
   ],
   "source": [
    "%%time\n",
    "\n",
    "start = time.perf_counter()\n",
    "selector = UnivariateFilter(su_measure,\n",
    "                          select_k_best(n_features)).fit(x_train, y_train)\n",
    "selected_features = selector.selected_features_\n",
    "x_train_su = x_train.iloc[:, selected_features]\n",
    "x_test_su = x_test.iloc[:, selected_features]\n",
    "\n",
    "su_precision_d = model_score(x_train_su, x_test_su, y_train, y_test)\n",
    "end = time.perf_counter()\n",
    "time_diff = end - start\n",
    "\n",
    "\n",
    "selector_b = UnivariateFilter(su_measure,\n",
    "                          select_k_best(n_features)).fit(x_train_b, y_train_b)\n",
    "selected_features_b = selector_b.selected_features_\n",
    "x_train_su = x_train_b.iloc[:, selected_features_b]\n",
    "x_test_su = x_test_b.iloc[:, selected_features_b]\n",
    "su_precision_d_b = model_score(x_train_su, x_test_su, y_train_b, y_test_b)\n",
    "\n",
    "\n",
    "stability_index = jaccard_index(selected_features, selected_features_b, x_train.shape[1])\n",
    "\n",
    "dexter_result['su'] = {}\n",
    "dexter_result['su']['precision'] = max(su_precision_d, su_precision_d_b)\n",
    "dexter_result['su']['time'] = time_diff\n",
    "dexter_result['su']['stability'] = stability_index\n",
    "dexter_result['su']['features'] = n_features"
   ]
  },
  {
   "cell_type": "markdown",
   "metadata": {},
   "source": [
    "## Relief"
   ]
  },
  {
   "cell_type": "code",
   "execution_count": 22,
   "metadata": {},
   "outputs": [
    {
     "name": "stderr",
     "output_type": "stream",
     "text": [
      "Found %d constant features; they would not be used in fit\n",
      "Found %d constant features; they would not be used in fit\n"
     ]
    },
    {
     "name": "stdout",
     "output_type": "stream",
     "text": [
      "CPU times: user 962 ms, sys: 147 ms, total: 1.11 s\n",
      "Wall time: 1.49 s\n"
     ]
    }
   ],
   "source": [
    "%%time\n",
    "\n",
    "start = time.perf_counter()\n",
    "selector = UnivariateFilter(relief_measure,\n",
    "                          select_k_best(n_features)).fit(x_train, y_train)\n",
    "selected_features = selector.selected_features_\n",
    "x_train_relief = x_train.iloc[:, selected_features]\n",
    "x_test_relief = x_test.iloc[:, selected_features]\n",
    "relief_precision_d = model_score(x_train_relief, x_test_relief, y_train, y_test)\n",
    "end = time.perf_counter()\n",
    "time_diff = end - start\n",
    "\n",
    "\n",
    "selector_b = UnivariateFilter(relief_measure,\n",
    "                          select_k_best(n_features)).fit(x_train_b, y_train_b)\n",
    "selected_features_b = selector_b.selected_features_\n",
    "x_train_relief = x_train_b.iloc[:, selected_features_b]\n",
    "x_test_relief = x_test_b.iloc[:, selected_features_b]\n",
    "relief_precision_d_b = model_score(x_train_relief, x_test_relief, y_train_b, y_test_b)\n",
    "\n",
    "\n",
    "stability_index = jaccard_index(selected_features, selected_features_b, x_train.shape[1])\n",
    "\n",
    "dexter_result['relief'] = {}\n",
    "dexter_result['relief']['precision'] = max(relief_precision_d, relief_precision_d_b)\n",
    "dexter_result['relief']['time'] = time_diff\n",
    "dexter_result['relief']['stability'] = stability_index\n",
    "dexter_result['relief']['features'] = n_features"
   ]
  },
  {
   "cell_type": "markdown",
   "metadata": {},
   "source": [
    "## Boruta"
   ]
  },
  {
   "cell_type": "code",
   "execution_count": 23,
   "metadata": {},
   "outputs": [
    {
     "name": "stdout",
     "output_type": "stream",
     "text": [
      "Iteration: 1 / 100\n",
      "Iteration: 2 / 100\n",
      "Iteration: 3 / 100\n",
      "Iteration: 4 / 100\n",
      "Iteration: 5 / 100\n",
      "Iteration: 6 / 100\n",
      "Iteration: 7 / 100\n",
      "Iteration: 8 / 100\n",
      "Iteration: 9 / 100\n",
      "Iteration: 10 / 100\n",
      "Iteration: 11 / 100\n",
      "Iteration: 12 / 100\n",
      "Iteration: 13 / 100\n",
      "Iteration: 14 / 100\n",
      "Iteration: 15 / 100\n",
      "Iteration: 16 / 100\n",
      "Iteration: 17 / 100\n",
      "Iteration: 18 / 100\n",
      "Iteration: 19 / 100\n",
      "Iteration: 20 / 100\n",
      "Iteration: 21 / 100\n",
      "Iteration: 22 / 100\n",
      "Iteration: 23 / 100\n",
      "Iteration: 24 / 100\n",
      "Iteration: 25 / 100\n",
      "Iteration: 26 / 100\n",
      "Iteration: 27 / 100\n",
      "Iteration: 28 / 100\n",
      "Iteration: 29 / 100\n",
      "Iteration: 30 / 100\n",
      "Iteration: 31 / 100\n",
      "Iteration: 32 / 100\n",
      "Iteration: 33 / 100\n",
      "Iteration: 34 / 100\n",
      "Iteration: 35 / 100\n",
      "Iteration: 36 / 100\n",
      "Iteration: 37 / 100\n",
      "Iteration: 38 / 100\n",
      "Iteration: 39 / 100\n",
      "Iteration: 40 / 100\n",
      "Iteration: 41 / 100\n",
      "Iteration: 42 / 100\n",
      "Iteration: 43 / 100\n",
      "Iteration: 44 / 100\n",
      "Iteration: 45 / 100\n",
      "Iteration: 46 / 100\n",
      "Iteration: 47 / 100\n",
      "Iteration: 48 / 100\n",
      "Iteration: 49 / 100\n",
      "Iteration: 50 / 100\n",
      "Iteration: 51 / 100\n",
      "Iteration: 52 / 100\n",
      "Iteration: 53 / 100\n",
      "Iteration: 54 / 100\n",
      "Iteration: 55 / 100\n",
      "Iteration: 56 / 100\n",
      "Iteration: 57 / 100\n",
      "Iteration: 58 / 100\n",
      "Iteration: 59 / 100\n",
      "Iteration: 60 / 100\n",
      "Iteration: 61 / 100\n",
      "Iteration: 62 / 100\n",
      "Iteration: 63 / 100\n",
      "Iteration: 64 / 100\n",
      "Iteration: 65 / 100\n",
      "Iteration: 66 / 100\n",
      "Iteration: 67 / 100\n",
      "Iteration: 68 / 100\n",
      "Iteration: 69 / 100\n",
      "Iteration: 70 / 100\n",
      "Iteration: 71 / 100\n",
      "Iteration: 72 / 100\n",
      "Iteration: 73 / 100\n",
      "Iteration: 74 / 100\n",
      "Iteration: 75 / 100\n",
      "Iteration: 76 / 100\n",
      "Iteration: 77 / 100\n",
      "Iteration: 78 / 100\n",
      "Iteration: 79 / 100\n",
      "Iteration: 80 / 100\n",
      "Iteration: 81 / 100\n",
      "Iteration: 82 / 100\n",
      "Iteration: 83 / 100\n",
      "Iteration: 84 / 100\n",
      "Iteration: 85 / 100\n",
      "Iteration: 86 / 100\n",
      "Iteration: 87 / 100\n",
      "Iteration: 88 / 100\n",
      "Iteration: 89 / 100\n",
      "Iteration: 90 / 100\n",
      "Iteration: 91 / 100\n",
      "Iteration: 92 / 100\n",
      "Iteration: 93 / 100\n",
      "Iteration: 94 / 100\n",
      "Iteration: 95 / 100\n",
      "Iteration: 96 / 100\n",
      "Iteration: 97 / 100\n",
      "Iteration: 98 / 100\n",
      "Iteration: 99 / 100\n",
      "\n",
      "\n",
      "BorutaPy finished running.\n",
      "\n",
      "Iteration: \t100 / 100\n",
      "Confirmed: \t21\n",
      "Tentative: \t5\n",
      "Rejected: \t19969\n",
      "Iteration: 1 / 100\n",
      "Iteration: 2 / 100\n",
      "Iteration: 3 / 100\n",
      "Iteration: 4 / 100\n",
      "Iteration: 5 / 100\n",
      "Iteration: 6 / 100\n",
      "Iteration: 7 / 100\n",
      "Iteration: 8 / 100\n",
      "Iteration: 9 / 100\n",
      "Iteration: 10 / 100\n",
      "Iteration: 11 / 100\n",
      "Iteration: 12 / 100\n",
      "Iteration: 13 / 100\n",
      "Iteration: 14 / 100\n",
      "Iteration: 15 / 100\n",
      "Iteration: 16 / 100\n",
      "Iteration: 17 / 100\n",
      "Iteration: 18 / 100\n",
      "Iteration: 19 / 100\n",
      "Iteration: 20 / 100\n",
      "Iteration: 21 / 100\n",
      "Iteration: 22 / 100\n",
      "Iteration: 23 / 100\n",
      "Iteration: 24 / 100\n",
      "Iteration: 25 / 100\n",
      "Iteration: 26 / 100\n",
      "Iteration: 27 / 100\n",
      "Iteration: 28 / 100\n",
      "Iteration: 29 / 100\n",
      "Iteration: 30 / 100\n",
      "Iteration: 31 / 100\n",
      "Iteration: 32 / 100\n",
      "Iteration: 33 / 100\n",
      "Iteration: 34 / 100\n",
      "Iteration: 35 / 100\n",
      "Iteration: 36 / 100\n",
      "Iteration: 37 / 100\n",
      "Iteration: 38 / 100\n",
      "Iteration: 39 / 100\n",
      "Iteration: 40 / 100\n",
      "Iteration: 41 / 100\n",
      "Iteration: 42 / 100\n",
      "Iteration: 43 / 100\n",
      "Iteration: 44 / 100\n",
      "Iteration: 45 / 100\n",
      "Iteration: 46 / 100\n",
      "Iteration: 47 / 100\n",
      "Iteration: 48 / 100\n",
      "Iteration: 49 / 100\n",
      "Iteration: 50 / 100\n",
      "Iteration: 51 / 100\n",
      "Iteration: 52 / 100\n",
      "Iteration: 53 / 100\n",
      "Iteration: 54 / 100\n",
      "Iteration: 55 / 100\n",
      "Iteration: 56 / 100\n",
      "Iteration: 57 / 100\n",
      "Iteration: 58 / 100\n",
      "Iteration: 59 / 100\n",
      "Iteration: 60 / 100\n",
      "Iteration: 61 / 100\n",
      "Iteration: 62 / 100\n",
      "Iteration: 63 / 100\n",
      "Iteration: 64 / 100\n",
      "Iteration: 65 / 100\n",
      "Iteration: 66 / 100\n",
      "Iteration: 67 / 100\n",
      "Iteration: 68 / 100\n",
      "Iteration: 69 / 100\n",
      "Iteration: 70 / 100\n",
      "Iteration: 71 / 100\n",
      "Iteration: 72 / 100\n",
      "Iteration: 73 / 100\n",
      "Iteration: 74 / 100\n",
      "Iteration: 75 / 100\n",
      "Iteration: 76 / 100\n",
      "Iteration: 77 / 100\n",
      "Iteration: 78 / 100\n",
      "Iteration: 79 / 100\n",
      "Iteration: 80 / 100\n",
      "Iteration: 81 / 100\n",
      "Iteration: 82 / 100\n",
      "Iteration: 83 / 100\n",
      "Iteration: 84 / 100\n",
      "Iteration: 85 / 100\n",
      "Iteration: 86 / 100\n",
      "Iteration: 87 / 100\n",
      "Iteration: 88 / 100\n",
      "Iteration: 89 / 100\n",
      "Iteration: 90 / 100\n",
      "Iteration: 91 / 100\n",
      "Iteration: 92 / 100\n",
      "Iteration: 93 / 100\n",
      "Iteration: 94 / 100\n",
      "Iteration: 95 / 100\n",
      "Iteration: 96 / 100\n",
      "Iteration: 97 / 100\n",
      "Iteration: 98 / 100\n",
      "Iteration: 99 / 100\n",
      "\n",
      "\n",
      "BorutaPy finished running.\n",
      "\n",
      "Iteration: \t100 / 100\n",
      "Confirmed: \t25\n",
      "Tentative: \t4\n",
      "Rejected: \t19965\n",
      "CPU times: user 24.9 s, sys: 2.6 s, total: 27.5 s\n",
      "Wall time: 37.1 s\n"
     ]
    }
   ],
   "source": [
    "%%time\n",
    "\n",
    "x_values = x_train.values\n",
    "y_values = y_train.values.ravel()\n",
    "\n",
    "start = time.perf_counter()\n",
    "rf = RandomForestClassifier(n_estimators=50, max_depth=5)\n",
    "selector = BorutaPy(rf, n_estimators=50, verbose=1, random_state=1)\n",
    "selector.fit(x_values, y_values)\n",
    "selected_features = x_train.columns[selector.support_]\n",
    "\n",
    "x_train_boruta = selector.transform(x_train.values) # call transform() on X to filter it down to selected features\n",
    "x_test_boruta = selector.transform(x_test.values)\n",
    "\n",
    "boruta_precision_d = model_score(x_train_boruta, x_test_boruta, y_train, y_test)\n",
    "end = time.perf_counter()\n",
    "time_diff = end - start\n",
    "\n",
    "\n",
    "x_values = x_train_b.values\n",
    "y_values = y_train_b.values.ravel()\n",
    "\n",
    "rf = RandomForestClassifier(n_estimators=50, max_depth=5)\n",
    "selector_b = BorutaPy(rf, n_estimators=50, verbose=1, random_state=1)\n",
    "selector_b.fit(x_values, y_values)\n",
    "selected_features_b = x_train_b.columns[selector_b.support_]\n",
    "\n",
    "x_train_boruta = selector_b.transform(x_train_b.values) # call transform() on X to filter it down to selected features\n",
    "x_test_boruta = selector_b.transform(x_test_b.values)\n",
    "\n",
    "boruta_precision_d_b = model_score(x_train_boruta, x_test_boruta, y_train_b, y_test_b)\n",
    "\n",
    "\n",
    "stability_index = jaccard_index(selected_features, selected_features_b, x_train.shape[1])\n",
    "\n",
    "dexter_result['boruta'] = {}\n",
    "dexter_result['boruta']['precision'] = max(boruta_precision_d, boruta_precision_d_b)\n",
    "dexter_result['boruta']['time'] = time_diff\n",
    "dexter_result['boruta']['stability'] = stability_index\n",
    "dexter_result['boruta']['features'] = max(len(selected_features), len(selected_features_b))"
   ]
  },
  {
   "cell_type": "markdown",
   "metadata": {},
   "source": [
    "## Dexter result"
   ]
  },
  {
   "cell_type": "code",
   "execution_count": 24,
   "metadata": {},
   "outputs": [
    {
     "name": "stdout",
     "output_type": "stream",
     "text": [
      "{'boruta': {'features': 25,\n",
      "            'precision': 0.9615384615384616,\n",
      "            'stability': 0.5862068965517241,\n",
      "            'time': 19.08413399799997},\n",
      " 'chi2': {'features': 50,\n",
      "          'precision': 0.9565217391304348,\n",
      "          'stability': 0.8518518518518519,\n",
      "          'time': 4.803842994999968},\n",
      " 'relief': {'features': 50,\n",
      "            'precision': 0.78125,\n",
      "            'stability': 0.25,\n",
      "            'time': 0.6551037979999137},\n",
      " 'rf': {'features': 50,\n",
      "        'precision': 0.9615384615384616,\n",
      "        'stability': 0.5151515151515151,\n",
      "        'time': 0.7624066419999735},\n",
      " 'su': {'features': 50,\n",
      "        'precision': 0.9629629629629629,\n",
      "        'stability': 0.7857142857142857,\n",
      "        'time': 2.1916900409999016},\n",
      " 'w/o': {'features': 20000,\n",
      "         'precision': 0.9666666666666667,\n",
      "         'stability': 1,\n",
      "         'time': 2.225876378999999}}\n"
     ]
    }
   ],
   "source": [
    "pp.pprint(dexter_result)"
   ]
  },
  {
   "cell_type": "code",
   "execution_count": 25,
   "metadata": {},
   "outputs": [
    {
     "name": "stdout",
     "output_type": "stream",
     "text": [
      "              boruta       chi2     relief         rf         su           w/o\n",
      "precision   0.961538   0.956522   0.781250   0.961538   0.962963      0.966667\n",
      "time       19.084134   4.803843   0.655104   0.762407   2.191690      2.225876\n",
      "stability   0.586207   0.851852   0.250000   0.515152   0.785714      1.000000\n",
      "features   25.000000  50.000000  50.000000  50.000000  50.000000  20000.000000\n"
     ]
    }
   ],
   "source": [
    "dexter_result_df = pd.DataFrame.from_records(dexter_result)\n",
    "print(dexter_result_df)"
   ]
  },
  {
   "cell_type": "code",
   "execution_count": 26,
   "metadata": {},
   "outputs": [],
   "source": [
    "dexter_result_df.to_excel('./results/dexter_result.xlsx')"
   ]
  }
 ],
 "metadata": {
  "kernelspec": {
   "display_name": "cenv",
   "language": "python",
   "name": "cenv"
  },
  "language_info": {
   "codemirror_mode": {
    "name": "ipython",
    "version": 3
   },
   "file_extension": ".py",
   "mimetype": "text/x-python",
   "name": "python",
   "nbconvert_exporter": "python",
   "pygments_lexer": "ipython3",
   "version": "3.8.10"
  }
 },
 "nbformat": 4,
 "nbformat_minor": 4
}
